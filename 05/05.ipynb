{
 "nbformat": 4,
 "nbformat_minor": 2,
 "metadata": {
  "language_info": {
   "name": "python",
   "codemirror_mode": {
    "name": "ipython",
    "version": 3
   },
   "version": "3.6.8"
  },
  "orig_nbformat": 2,
  "file_extension": ".py",
  "mimetype": "text/x-python",
  "name": "python",
  "npconvert_exporter": "python",
  "pygments_lexer": "ipython3",
  "version": 3
 },
 "cells": [
  {
   "cell_type": "code",
   "execution_count": 2,
   "metadata": {},
   "outputs": [],
   "source": [
    "import imageio\n",
    "import numpy as np\n",
    "import matplotlib.pyplot as plt\n",
    "import skimage.filters as filters\n",
    "\n",
    "def show_gray(*args, **kwargs):\n",
    "    show(*args, cmap=\"gray\", **kwargs)\n",
    "\n",
    "def show(*args, **kwargs):\n",
    "    import matplotlib.pyplot as plt\n",
    "    if (len(args) == 1):\n",
    "        plt.imshow(args[0], **kwargs)\n",
    "    else:\n",
    "        f, axis = plt.subplots(1,len(args))\n",
    "        f.set_figheight(25)\n",
    "        f.set_figwidth(25)\n",
    "        for (image,i) in zip(args,range(len(args))):\n",
    "            axis[i].imshow(image, **kwargs)\n",
    "    plt.show()"
   ]
  },
  {
   "cell_type": "markdown",
   "execution_count": null,
   "metadata": {},
   "outputs": [],
   "source": [
    "# Other tasks)\n",
    "### 1.a)\n",
    "\n",
    "$$ I = \\left[ \\begin{matrix} 5 & 7 & 9 \\\\ 4 & 1 & 3 \\\\ 5 & 8 & 0 \\end{matrix} \\right]$$\n",
    "\n",
    "$$ \\triangledown I = \\left[ \\dfrac{\\delta I}{\\delta x} \\dfrac{\\delta I}{\\delta y} \\right] $$\n",
    "\n",
    "$$ \\dfrac{\\delta I}{\\delta x} = f(x-1,y) - f(x+1,y) = 4 - 3 = 1$$\n",
    "$$ \\dfrac{\\delta I}{\\delta y} = f(x,y-1) - f(x,y+1) = 7 - 8 = -1$$\n",
    "\n",
    "$$ \\triangledown I = \\left[ \\begin{matrix} 1 & -1 \\end{matrix} \\right] $$"
   ]
  },
  {
   "cell_type": "markdown",
   "execution_count": null,
   "metadata": {},
   "outputs": [],
   "source": [
    "### 1.b)\n",
    "\n",
    "<img src=\"grad_x.png\" /> <img src=\"grad_y.png\" /> <img src=\"grad_xy.png\" />"
   ]
  },
  {
   "cell_type": "markdown",
   "execution_count": null,
   "metadata": {},
   "outputs": [],
   "source": [
    "### 1.c)\n",
    "\n",
    "$$ | \\triangledown I | = \\sqrt{\\dfrac{\\delta I}{\\delta x}² + \\dfrac{\\delta I}{\\delta y}²} = \\sqrt{1 + 1} = \\sqrt{2} $$\n",
    "\n",
    "TODO: Indicate the magnitude and orientation!?"
   ]
  },
  {
   "cell_type": "markdown",
   "execution_count": null,
   "metadata": {},
   "outputs": [],
   "source": [
    "### 2.a)\n",
    "\n",
    "$$ \\triangledown ² g = \\dfrac{\\delta ² g}{\\delta x²} + \\dfrac{\\delta ² g}{\\delta y²} $$\n",
    "\n",
    "$$ \\dfrac{\\delta g}{\\delta x} = \\dfrac{\\delta}{\\delta x} \\left[ e^{-\\dfrac{x²+y²}{2 \\sigma ²}} \\right] $$"
   ]
  }
 ]
}